{
 "cells": [
  {
   "cell_type": "code",
   "execution_count": 35,
   "id": "d0eae977",
   "metadata": {},
   "outputs": [],
   "source": [
    "import pandas as pd\n",
    "import matplotlib.pyplot as plt\n",
    "\n",
    "from tensorflow.keras.datasets import fashion_mnist\n",
    "\n",
    "from sklearn.model_selection import train_test_split\n",
    "\n",
    "from tensorflow.keras.models import Sequential, load_model\n",
    "from tensorflow.keras.layers import Conv2D, MaxPooling2D, Flatten, Dense, Dropout#, RandomFlip, RandomRotation\n",
    "#from tensorflow.keras.callbacks import EarlyStopping, ModelCheckpoint, ReduceLROnPlateau\n",
    "#from tensorflow.keras.preprocessing.image import ImageDataGenerator"
   ]
  },
  {
   "cell_type": "code",
   "execution_count": 36,
   "id": "4957d04c",
   "metadata": {},
   "outputs": [],
   "source": [
    "# helper function that builds df for kaggle contest\n",
    "def kaggle_submission(model):\n",
    "    test = pd.read_csv('./data/fashion-mnist_test.csv').values / 255\n",
    "    (\n",
    "        pd.DataFrame(\n",
    "            {'ImageId': range(1, len(test)+1), \n",
    "            'Label': model.predict(test.reshape((len(test), *[int(test.shape[1]**0.5)]*2, 1)), verbose=0).argmax(1)}\n",
    "        )\n",
    "        .to_csv('./data/submission.csv', index=False)\n",
    "    )\n",
    "\n",
    "# helper function to plot results\n",
    "def plotter(axs, result, cv=1):\n",
    "    for i, v in enumerate(['loss', 'accuracy']):\n",
    "        for j in range(cv):\n",
    "            axs[i].plot(result[f\"{v}\"], label=f\"Training {v.title()}\")\n",
    "            axs[i].plot(result[f\"val_{v}\"], label=f\"Validation {v.title()}\")\n",
    "\n",
    "        axs[i].set_title(f'{v.title()} Across Epochs', fontsize=20)\n",
    "        axs[i].set_ylabel(f\"{v.title()}\", fontsize=15)\n",
    "        axs[i].set_xlabel(\"Number of Epochs\", fontsize=15)\n",
    "        axs[i].legend(fontsize=10);"
   ]
  },
  {
   "cell_type": "code",
   "execution_count": 37,
   "id": "a24241f5",
   "metadata": {},
   "outputs": [],
   "source": [
    "def read_dataset():\n",
    "    \n",
    "    # read data\n",
    "    X = pd.read_csv(\"./data/fashion-mnist_train.csv\")\n",
    "    \n",
    "    # separate y from X\n",
    "    y = X.pop('label')\n",
    "\n",
    "    # reshape the data into 4d numpy array where \n",
    "    # the first dimension is the number of samples and the remaining dimensions are of image data\n",
    "    X = X.values.reshape((len(X), *[int(X.shape[1]**0.5)]*2, 1))\n",
    "    \n",
    "    return X, y\n",
    "\n",
    "\n",
    "def preprocessing(X, y):\n",
    "    # train-test split\n",
    "    X_train, X_test, y_train, y_test = train_test_split(X, y, random_state=2022, stratify=y)\n",
    "    \n",
    "    # normalize data\n",
    "    X_train = X_train / 255\n",
    "    X_test  = X_test / 255\n",
    "    \n",
    "    global image_shape\n",
    "    image_shape = X_train.shape[1:]\n",
    "    \n",
    "    return (X_train, y_train), (X_test, y_test)"
   ]
  },
  {
   "cell_type": "code",
   "execution_count": 38,
   "id": "7570d204",
   "metadata": {},
   "outputs": [],
   "source": [
    "def build_model():\n",
    "\n",
    "    num_filters = 32\n",
    "    model = Sequential()\n",
    "\n",
    "    model.add(Conv2D(num_filters, 3, activation='relu', kernel_regularizer=l2(0.1), input_shape=image_shape))\n",
    "    model.add(Conv2D(num_filters, 3, activation='relu', kernel_regularizer=l2(0.1)))\n",
    "    model.add(MaxPooling2D(2))\n",
    "#     model.add(Conv2D(num_filters*2, 3, activation='relu', kernel_regularizer=l2(0.1)))\n",
    "#     model.add(Conv2D(num_filters*2, 3, activation='relu', kernel_regularizer=l2(0.1)))\n",
    "#     model.add(MaxPooling2D(2))\n",
    "#     model.add(Conv2D(num_filters*3, 3, activation='relu', kernel_regularizer=l2(0.1)))\n",
    "#     model.add(Conv2D(num_filters*3, 3, activation='relu', kernel_regularizer=l2(0.1)))\n",
    "    model.add(Flatten())\n",
    "    model.add(BatchNormalization())\n",
    "#     model.add(Dense(128, use_bias=False, kernel_regularizer=l2(0.1)))\n",
    "#     model.add(BatchNormalization())\n",
    "#     model.add(Activation('relu'))\n",
    "    model.add(Dense(64, use_bias=False, kernel_regularizer=l2(0.1)))\n",
    "    model.add(BatchNormalization())\n",
    "    model.add(Activation('relu'))\n",
    "    model.add(Dense(32, use_bias=False, kernel_regularizer=l2(0.1)))\n",
    "    model.add(BatchNormalization())\n",
    "    model.add(Activation('relu'))\n",
    "    model.add(Dense(10, activation='softmax'))\n",
    "\n",
    "    return model"
   ]
  },
  {
   "cell_type": "code",
   "execution_count": 46,
   "id": "db8599de",
   "metadata": {},
   "outputs": [],
   "source": [
    "def fit_model(model, train_data, val_data):\n",
    "    \n",
    "    batch = 128\n",
    "    epochs = 50\n",
    "\n",
    "#     lr_plateau = ReduceLROnPlateau()\n",
    "#     early_stopping = EarlyStopping(patience=10, restore_best_weights=True)\n",
    "#     check_point = ModelCheckpoint(filepath='./data/best_model.h5', save_best_only=True)\n",
    "    \n",
    "    history = model.fit(\n",
    "        *train_data, \n",
    "        validation_data=val_data, \n",
    "        epochs=epochs, \n",
    "        batch_size=batch,\n",
    "#        callbacks = [lr_plateau, check_point, early_stopping]\n",
    "    )\n",
    "    \n",
    "    return model, history"
   ]
  },
  {
   "cell_type": "code",
   "execution_count": null,
   "id": "5a1eafff",
   "metadata": {},
   "outputs": [],
   "source": []
  },
  {
   "cell_type": "code",
   "execution_count": 47,
   "id": "b23d77ce",
   "metadata": {},
   "outputs": [],
   "source": [
    "#(X_train, y_train), (X_test, y_test) = fashion_mnist.load_data()"
   ]
  },
  {
   "cell_type": "code",
   "execution_count": 48,
   "id": "8eec22b4",
   "metadata": {},
   "outputs": [],
   "source": [
    "X, y = read_dataset()\n",
    "train_data, val_data = preprocessing(X, y)"
   ]
  },
  {
   "cell_type": "code",
   "execution_count": 49,
   "id": "31d932c5",
   "metadata": {},
   "outputs": [],
   "source": [
    "num_2_item_map = {0: 'T-shirt/top', 1: 'Trouser', 2: 'Pullover', \n",
    "                  3: 'Dress', 4: 'Coat', 5: 'Sandal', 6: 'Shirt', \n",
    "                  7: 'Sneaker', 8: 'Bag', 9: 'Ankle boot'}"
   ]
  },
  {
   "cell_type": "code",
   "execution_count": 50,
   "id": "e3a39152",
   "metadata": {},
   "outputs": [
    {
     "name": "stdout",
     "output_type": "stream",
     "text": [
      "The first image is Pullover:\n"
     ]
    },
    {
     "data": {
      "image/png": "[encoded data removed]",
      "text/plain": [
       "<Figure size 432x288 with 1 Axes>"
      ]
     },
     "metadata": {
      "needs_background": "light"
     },
     "output_type": "display_data"
    }
   ],
   "source": [
    "print(f'The first image is {num_2_item_map[y[0]]}:')\n",
    "plt.imshow(X[0].reshape(28,28,1), 'binary');"
   ]
  },
  {
   "cell_type": "code",
   "execution_count": 51,
   "id": "d6417a7e",
   "metadata": {},
   "outputs": [],
   "source": [
    "model = build_model()"
   ]
  },
  {
   "cell_type": "code",
   "execution_count": 52,
   "id": "74bb9dc8",
   "metadata": {},
   "outputs": [
    {
     "name": "stdout",
     "output_type": "stream",
     "text": [
      "Model: \"sequential_6\"\n",
      "_________________________________________________________________\n",
      " Layer (type)                Output Shape              Param #   \n",
      "=================================================================\n",
      " conv2d_12 (Conv2D)          (None, 27, 27, 32)        160       \n",
      "                                                                 \n",
      " conv2d_13 (Conv2D)          (None, 24, 24, 64)        32832     \n",
      "                                                                 \n",
      " max_pooling2d_6 (MaxPooling  (None, 12, 12, 64)       0         \n",
      " 2D)                                                             \n",
      "                                                                 \n",
      " dropout_9 (Dropout)         (None, 12, 12, 64)        0         \n",
      "                                                                 \n",
      " conv2d_14 (Conv2D)          (None, 11, 11, 32)        8224      \n",
      "                                                                 \n",
      " conv2d_15 (Conv2D)          (None, 8, 8, 64)          32832     \n",
      "                                                                 \n",
      " max_pooling2d_7 (MaxPooling  (None, 4, 4, 64)         0         \n",
      " 2D)                                                             \n",
      "                                                                 \n",
      " dropout_10 (Dropout)        (None, 4, 4, 64)          0         \n",
      "                                                                 \n",
      " flatten_3 (Flatten)         (None, 1024)              0         \n",
      "                                                                 \n",
      " dense_6 (Dense)             (None, 128)               131200    \n",
      "                                                                 \n",
      " dropout_11 (Dropout)        (None, 128)               0         \n",
      "                                                                 \n",
      " dense_7 (Dense)             (None, 10)                1290      \n",
      "                                                                 \n",
      "=================================================================\n",
      "Total params: 206,538\n",
      "Trainable params: 206,538\n",
      "Non-trainable params: 0\n",
      "_________________________________________________________________\n"
     ]
    }
   ],
   "source": [
    "model.summary()"
   ]
  },
  {
   "cell_type": "code",
   "execution_count": 54,
   "id": "d104278a",
   "metadata": {},
   "outputs": [],
   "source": [
    "model, history = fit_model(model, train_data, val_data)"
   ]
  },
  {
   "cell_type": "code",
   "execution_count": null,
   "id": "81f7dab7",
   "metadata": {},
   "outputs": [],
   "source": [
    "fig, axs = plt.subplots(1,2, figsize=(12,5))\n",
    "plotter(axs, history.history)\n",
    "fig.tight_layout();"
   ]
  }
 ],
 "metadata": {
  "kernelspec": {
   "display_name": "Python 3.9.12",
   "language": "python",
   "name": "python3"
  },
  "language_info": {
   "codemirror_mode": {
    "name": "ipython",
    "version": 3
   },
   "file_extension": ".py",
   "mimetype": "text/x-python",
   "name": "python",
   "nbconvert_exporter": "python",
   "pygments_lexer": "ipython3",
   "version": "3.9.12"
  }
 },
 "nbformat": 4,
 "nbformat_minor": 5
}
