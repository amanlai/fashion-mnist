{
  "cells": [
    {
      "cell_type": "code",
      "execution_count": 1,
      "id": "f3c38e07",
      "metadata": {
        "id": "f3c38e07"
      },
      "outputs": [],
      "source": [
        "import pandas as pd\n",
        "import matplotlib.pyplot as plt\n",
        "import numpy as np\n",
        "\n",
        "from sklearn.model_selection import train_test_split\n",
        "\n",
        "from tensorflow.keras.models import Sequential, load_model\n",
        "from tensorflow.keras.layers import Conv2D, MaxPooling2D, Flatten, Dense, Dropout, BatchNormalization, Activation\n",
        "from tensorflow.keras.callbacks import EarlyStopping, ModelCheckpoint\n",
        "from tensorflow.keras.regularizers import l2\n",
        "from sklearn.metrics import confusion_matrix"
      ]
    },
    {
      "cell_type": "code",
      "execution_count": 2,
      "id": "b6faaf10",
      "metadata": {
        "id": "b6faaf10"
      },
      "outputs": [],
      "source": [
        "# helper function to plot results\n",
        "def plotter(axs, result, cv=1):\n",
        "    for i, v in enumerate(['loss', 'accuracy']):\n",
        "        for j in range(cv):\n",
        "            axs[i].plot(result[f\"{v}\"], label=f\"Training {v.title()}\")\n",
        "            axs[i].plot(result[f\"val_{v}\"], label=f\"Validation {v.title()}\")\n",
        "\n",
        "        axs[i].set_title(f'{v.title()} Across Epochs', fontsize=20)\n",
        "        axs[i].set_ylabel(f\"{v.title()}\", fontsize=15)\n",
        "        axs[i].set_xlabel(\"Number of Epochs\", fontsize=15)\n",
        "        axs[i].legend(fontsize=10);"
      ]
    },
    {
      "cell_type": "code",
      "execution_count": 3,
      "id": "56303a0a",
      "metadata": {
        "id": "56303a0a"
      },
      "outputs": [],
      "source": [
        "def read_dataset():\n",
        "    \n",
        "    # read data\n",
        "    X = pd.read_csv(\"fashion-mnist_train.csv\")\n",
        "    \n",
        "    # separate y from X\n",
        "    y = X.pop('label')\n",
        "\n",
        "    # reshape the data into 4d numpy array where \n",
        "    # the first dimension is the number of samples and the remaining dimensions are of image data\n",
        "    X = X.values.reshape((len(X), *[int(X.shape[1]**0.5)]*2, 1))\n",
        "    \n",
        "    return X, y\n",
        "\n",
        "\n",
        "def preprocessing(X, y):\n",
        "    # train-test split\n",
        "    X_train, X_test, y_train, y_test = train_test_split(X, y, random_state=2022)\n",
        "    \n",
        "    # normalize data\n",
        "    X_train = X_train / 255\n",
        "    X_test  = X_test / 255\n",
        "    \n",
        "    global image_shape\n",
        "    image_shape = X_train.shape[1:]\n",
        "    \n",
        "    return (X_train, y_train), (X_test, y_test)"
      ]
    },
    {
      "cell_type": "code",
      "execution_count": 4,
      "id": "60a727a0",
      "metadata": {
        "id": "60a727a0"
      },
      "outputs": [],
      "source": [
        "def build_model():\n",
        "\n",
        "    model = Sequential()\n",
        "\n",
        "    model.add(Conv2D(64, 3, activation='relu', input_shape=image_shape))\n",
        "    model.add(Conv2D(128, 3, activation='relu'))\n",
        "    model.add(MaxPooling2D(2))\n",
        "    model.add(Conv2D(256, 3, activation='relu'))\n",
        "    model.add(Conv2D(256, 3, activation='relu'))\n",
        "    model.add(MaxPooling2D(2))\n",
        "    model.add(Conv2D(512, 3, activation='relu'))\n",
        "    model.add(Flatten())\n",
        "    model.add(Dense(256, kernel_regularizer=l2(0.1)))\n",
        "    model.add(BatchNormalization())\n",
        "    model.add(Activation('relu'))\n",
        "    model.add(Dense(128, kernel_regularizer=l2(0.1)))\n",
        "    model.add(BatchNormalization())\n",
        "    model.add(Activation('relu'))\n",
        "    model.add(Dense(64, kernel_regularizer=l2(0.1)))\n",
        "    model.add(BatchNormalization())\n",
        "    model.add(Dense(32, kernel_regularizer=l2(0.1)))\n",
        "    model.add(BatchNormalization())\n",
        "    model.add(Activation('relu'))\n",
        "    model.add(Dense(10, activation='softmax'))\n",
        "\n",
        "    model.compile(loss='sparse_categorical_crossentropy', optimizer='rmsprop', metrics=['accuracy'])\n",
        "\n",
        "    return model"
      ]
    },
    {
      "cell_type": "code",
      "execution_count": 5,
      "id": "9e71dc09",
      "metadata": {
        "id": "9e71dc09"
      },
      "outputs": [],
      "source": [
        "def fit_model(model, train_data, val_data):\n",
        "    batch = 128\n",
        "    epochs = 20\n",
        "\n",
        "    early_stopping = EarlyStopping(patience=5, restore_best_weights=True)\n",
        "    check_point = ModelCheckpoint('best_model.h5', save_best_only=True)\n",
        "\n",
        "    history = model.fit(\n",
        "        *train_data, \n",
        "        validation_data=val_data, \n",
        "        epochs=epochs, \n",
        "        batch_size=batch,\n",
        "        callbacks=[early_stopping, check_point]\n",
        "    )\n",
        "    \n",
        "    return model, history"
      ]
    },
    {
      "cell_type": "code",
      "source": [
        "def print_errors(model):\n",
        "    test, preds = get_predictions(model)\n",
        "    wrong_ix = preds.index[preds['Truth'] != preds['Predictions']]\n",
        "    \n",
        "    for i in wrong_ix[:10]:\n",
        "        plt.clf()\n",
        "        plt.imshow(test[i, :, :, 0], 'binary')\n",
        "        plt.show()\n",
        "        pred = preds.loc[i, 'Predictions']\n",
        "        truth = preds.loc[i, 'Truth']\n",
        "        print(f'We thought = {num_2_item_map[pred]}, but really {num_2_item_map[truth]}')\n",
        "\n",
        "\n",
        "# helper function that builds predictions\n",
        "def get_predictions(model):\n",
        "    test1 = test.values.reshape(len(test), 28, 28, 1)\n",
        "    df = pd.DataFrame(\n",
        "            {'Truth': y_test, \n",
        "            'Predictions': model.predict(test1, verbose=0).argmax(1)}\n",
        "        )\n",
        "    return test1, df"
      ],
      "metadata": {
        "id": "oMlvObN1GgUx"
      },
      "id": "oMlvObN1GgUx",
      "execution_count": 16,
      "outputs": []
    },
    {
      "cell_type": "code",
      "execution_count": 7,
      "id": "c16b2553",
      "metadata": {
        "id": "c16b2553"
      },
      "outputs": [],
      "source": [
        "X, y = read_dataset()\n",
        "train_data, val_data = preprocessing(X, y)\n",
        "test = pd.read_csv('fashion-mnist_test.csv')\n",
        "y_test = test.pop('label')\n",
        "test = test / 255"
      ]
    },
    {
      "cell_type": "code",
      "execution_count": 8,
      "id": "ab4768b2",
      "metadata": {
        "id": "ab4768b2"
      },
      "outputs": [],
      "source": [
        "num_2_item_map = {0: 'T-shirt/top', 1: 'Trouser', 2: 'Pullover', \n",
        "                  3: 'Dress', 4: 'Coat', 5: 'Sandal', 6: 'Shirt', \n",
        "                  7: 'Sneaker', 8: 'Bag', 9: 'Ankle boot'}"
      ]
    },
    {
      "cell_type": "code",
      "execution_count": 9,
      "id": "77ee05ad",
      "metadata": {
        "colab": {
          "base_uri": "https://localhost:8080/",
          "height": 282
        },
        "id": "77ee05ad",
        "outputId": "4b40035d-6ff4-463c-e8be-79bd4df56e83"
      },
      "outputs": [
        {
          "output_type": "stream",
          "name": "stdout",
          "text": [
            "The first image is Pullover:\n"
          ]
        },
        {
          "output_type": "display_data",
          "data": {
            "text/plain": [
              "<Figure size 432x288 with 1 Axes>"
            ],
            "image/png": "[encoded data removed]"
          },
          "metadata": {
            "needs_background": "light"
          }
        }
      ],
      "source": [
        "print(f'The first image is {num_2_item_map[y[0]]}:')\n",
        "plt.imshow(X[0].reshape(28, 28), 'binary');"
      ]
    },
    {
      "cell_type": "markdown",
      "source": [
        "## Model"
      ],
      "metadata": {
        "id": "ce3DUsjzY1jn"
      },
      "id": "ce3DUsjzY1jn"
    },
    {
      "cell_type": "code",
      "execution_count": 10,
      "id": "49783124",
      "metadata": {
        "id": "49783124"
      },
      "outputs": [],
      "source": [
        "model = build_model()"
      ]
    },
    {
      "cell_type": "code",
      "execution_count": 11,
      "id": "78dcaccd",
      "metadata": {
        "colab": {
          "base_uri": "https://localhost:8080/"
        },
        "id": "78dcaccd",
        "outputId": "6125cbfb-992a-44cc-dd7c-b58915cba057"
      },
      "outputs": [
        {
          "output_type": "stream",
          "name": "stdout",
          "text": [
            "Model: \"sequential\"\n",
            "_________________________________________________________________\n",
            " Layer (type)                Output Shape              Param #   \n",
            "=================================================================\n",
            " conv2d (Conv2D)             (None, 26, 26, 64)        640       \n",
            "                                                                 \n",
            " conv2d_1 (Conv2D)           (None, 24, 24, 128)       73856     \n",
            "                                                                 \n",
            " max_pooling2d (MaxPooling2D  (None, 12, 12, 128)      0         \n",
            " )                                                               \n",
            "                                                                 \n",
            " conv2d_2 (Conv2D)           (None, 10, 10, 256)       295168    \n",
            "                                                                 \n",
            " conv2d_3 (Conv2D)           (None, 8, 8, 256)         590080    \n",
            "                                                                 \n",
            " max_pooling2d_1 (MaxPooling  (None, 4, 4, 256)        0         \n",
            " 2D)                                                             \n",
            "                                                                 \n",
            " conv2d_4 (Conv2D)           (None, 2, 2, 512)         1180160   \n",
            "                                                                 \n",
            " flatten (Flatten)           (None, 2048)              0         \n",
            "                                                                 \n",
            " dense (Dense)               (None, 256)               524544    \n",
            "                                                                 \n",
            " batch_normalization (BatchN  (None, 256)              1024      \n",
            " ormalization)                                                   \n",
            "                                                                 \n",
            " activation (Activation)     (None, 256)               0         \n",
            "                                                                 \n",
            " dense_1 (Dense)             (None, 128)               32896     \n",
            "                                                                 \n",
            " batch_normalization_1 (Batc  (None, 128)              512       \n",
            " hNormalization)                                                 \n",
            "                                                                 \n",
            " activation_1 (Activation)   (None, 128)               0         \n",
            "                                                                 \n",
            " dense_2 (Dense)             (None, 64)                8256      \n",
            "                                                                 \n",
            " batch_normalization_2 (Batc  (None, 64)               256       \n",
            " hNormalization)                                                 \n",
            "                                                                 \n",
            " dense_3 (Dense)             (None, 32)                2080      \n",
            "                                                                 \n",
            " batch_normalization_3 (Batc  (None, 32)               128       \n",
            " hNormalization)                                                 \n",
            "                                                                 \n",
            " activation_2 (Activation)   (None, 32)                0         \n",
            "                                                                 \n",
            " dense_4 (Dense)             (None, 10)                330       \n",
            "                                                                 \n",
            "=================================================================\n",
            "Total params: 2,709,930\n",
            "Trainable params: 2,708,970\n",
            "Non-trainable params: 960\n",
            "_________________________________________________________________\n"
          ]
        }
      ],
      "source": [
        "model.summary()"
      ]
    },
    {
      "cell_type": "code",
      "execution_count": 12,
      "id": "134f382d",
      "metadata": {
        "colab": {
          "base_uri": "https://localhost:8080/"
        },
        "id": "134f382d",
        "outputId": "56fabf5d-534d-4508-aae2-04799ac5819d"
      },
      "outputs": [
        {
          "output_type": "stream",
          "name": "stdout",
          "text": [
            "Epoch 1/20\n",
            "352/352 [==============================] - 20s 30ms/step - loss: 5.9186 - accuracy: 0.7797 - val_loss: 2.3345 - val_accuracy: 0.1736\n",
            "Epoch 2/20\n",
            "352/352 [==============================] - 10s 29ms/step - loss: 0.4966 - accuracy: 0.8695 - val_loss: 0.9510 - val_accuracy: 0.7672\n",
            "Epoch 3/20\n",
            "352/352 [==============================] - 13s 36ms/step - loss: 0.4079 - accuracy: 0.8926 - val_loss: 0.5450 - val_accuracy: 0.8664\n",
            "Epoch 4/20\n",
            "352/352 [==============================] - 11s 31ms/step - loss: 0.3586 - accuracy: 0.9037 - val_loss: 0.4241 - val_accuracy: 0.8844\n",
            "Epoch 5/20\n",
            "352/352 [==============================] - 10s 27ms/step - loss: 0.3197 - accuracy: 0.9170 - val_loss: 0.4905 - val_accuracy: 0.8730\n",
            "Epoch 6/20\n",
            "352/352 [==============================] - 10s 28ms/step - loss: 0.2940 - accuracy: 0.9267 - val_loss: 0.3426 - val_accuracy: 0.9121\n",
            "Epoch 7/20\n",
            "352/352 [==============================] - 10s 27ms/step - loss: 0.2676 - accuracy: 0.9334 - val_loss: 0.3873 - val_accuracy: 0.8957\n",
            "Epoch 8/20\n",
            "352/352 [==============================] - 10s 29ms/step - loss: 0.2402 - accuracy: 0.9415 - val_loss: 0.3638 - val_accuracy: 0.9090\n",
            "Epoch 9/20\n",
            "352/352 [==============================] - 10s 28ms/step - loss: 0.2264 - accuracy: 0.9459 - val_loss: 0.3265 - val_accuracy: 0.9145\n",
            "Epoch 10/20\n",
            "352/352 [==============================] - 10s 28ms/step - loss: 0.2068 - accuracy: 0.9521 - val_loss: 0.3441 - val_accuracy: 0.9124\n",
            "Epoch 11/20\n",
            "352/352 [==============================] - 11s 30ms/step - loss: 0.1900 - accuracy: 0.9564 - val_loss: 0.3363 - val_accuracy: 0.9169\n",
            "Epoch 12/20\n",
            "352/352 [==============================] - 10s 28ms/step - loss: 0.1776 - accuracy: 0.9606 - val_loss: 0.4211 - val_accuracy: 0.9017\n",
            "Epoch 13/20\n",
            "352/352 [==============================] - 10s 27ms/step - loss: 0.1609 - accuracy: 0.9656 - val_loss: 0.4731 - val_accuracy: 0.8925\n",
            "Epoch 14/20\n",
            "352/352 [==============================] - 10s 27ms/step - loss: 0.1600 - accuracy: 0.9679 - val_loss: 0.3429 - val_accuracy: 0.9205\n"
          ]
        }
      ],
      "source": [
        "model, history = fit_model(model, train_data, val_data)"
      ]
    },
    {
      "cell_type": "markdown",
      "source": [
        "## Model performance"
      ],
      "metadata": {
        "id": "tYagLC18YwO_"
      },
      "id": "tYagLC18YwO_"
    },
    {
      "cell_type": "code",
      "execution_count": 13,
      "id": "9baf586f",
      "metadata": {
        "colab": {
          "base_uri": "https://localhost:8080/",
          "height": 369
        },
        "id": "9baf586f",
        "outputId": "a9b35e20-85b9-40e3-bbc5-9600c8ca0b7f"
      },
      "outputs": [
        {
          "output_type": "display_data",
          "data": {
            "text/plain": [
              "<Figure size 864x360 with 2 Axes>"
            ],
            "image/png": "[encoded data removed]"
          },
          "metadata": {
            "needs_background": "light"
          }
        }
      ],
      "source": [
        "fig, axs = plt.subplots(1,2, figsize=(12,5))\n",
        "plotter(axs, history.history)\n",
        "fig.tight_layout();"
      ]
    },
    {
      "cell_type": "markdown",
      "source": [
        "## Wrong predictions"
      ],
      "metadata": {
        "id": "Vv7dbHGWYthu"
      },
      "id": "Vv7dbHGWYthu"
    },
    {
      "cell_type": "code",
      "source": [
        "print_errors(model)"
      ],
      "metadata": {
        "colab": {
          "base_uri": "https://localhost:8080/",
          "height": 1000
        },
        "id": "vDCp9F_tSc__",
        "outputId": "6b5e237c-b5a9-4ec6-b508-1584c04887c6"
      },
      "id": "vDCp9F_tSc__",
      "execution_count": 17,
      "outputs": [
        {
          "output_type": "display_data",
          "data": {
            "text/plain": [
              "<Figure size 432x288 with 1 Axes>"
            ],
            "image/png": "[encoded data removed]"
          },
          "metadata": {
            "needs_background": "light"
          }
        },
        {
          "output_type": "stream",
          "name": "stdout",
          "text": [
            "We thought = Shirt, but really Pullover\n"
          ]
        },
        {
          "output_type": "display_data",
          "data": {
            "text/plain": [
              "<Figure size 432x288 with 1 Axes>"
            ],
            "image/png": "[encoded data removed]"
          },
          "metadata": {
            "needs_background": "light"
          }
        },
        {
          "output_type": "stream",
          "name": "stdout",
          "text": [
            "We thought = Shirt, but really Pullover\n"
          ]
        },
        {
          "output_type": "display_data",
          "data": {
            "text/plain": [
              "<Figure size 432x288 with 1 Axes>"
            ],
            "image/png": "[encoded data removed]"
          },
          "metadata": {
            "needs_background": "light"
          }
        },
        {
          "output_type": "stream",
          "name": "stdout",
          "text": [
            "We thought = Pullover, but really Coat\n"
          ]
        },
        {
          "output_type": "display_data",
          "data": {
            "text/plain": [
              "<Figure size 432x288 with 1 Axes>"
            ],
            "image/png": "[encoded data removed]"
          },
          "metadata": {
            "needs_background": "light"
          }
        },
        {
          "output_type": "stream",
          "name": "stdout",
          "text": [
            "We thought = Sneaker, but really Sandal\n"
          ]
        },
        {
          "output_type": "display_data",
          "data": {
            "text/plain": [
              "<Figure size 432x288 with 1 Axes>"
            ],
            "image/png": "[encoded data removed]"
          },
          "metadata": {
            "needs_background": "light"
          }
        },
        {
          "output_type": "stream",
          "name": "stdout",
          "text": [
            "We thought = Shirt, but really Pullover\n"
          ]
        },
        {
          "output_type": "display_data",
          "data": {
            "text/plain": [
              "<Figure size 432x288 with 1 Axes>"
            ],
            "image/png": "[encoded data removed]"
          },
          "metadata": {
            "needs_background": "light"
          }
        },
        {
          "output_type": "stream",
          "name": "stdout",
          "text": [
            "We thought = Shirt, but really Pullover\n"
          ]
        },
        {
          "output_type": "display_data",
          "data": {
            "text/plain": [
              "<Figure size 432x288 with 1 Axes>"
            ],
            "image/png": "[encoded data removed]"
          },
          "metadata": {
            "needs_background": "light"
          }
        },
        {
          "output_type": "stream",
          "name": "stdout",
          "text": [
            "We thought = Coat, but really Pullover\n"
          ]
        },
        {
          "output_type": "display_data",
          "data": {
            "text/plain": [
              "<Figure size 432x288 with 1 Axes>"
            ],
            "image/png": "[encoded data removed]"
          },
          "metadata": {
            "needs_background": "light"
          }
        },
        {
          "output_type": "stream",
          "name": "stdout",
          "text": [
            "We thought = T-shirt/top, but really Shirt\n"
          ]
        },
        {
          "output_type": "display_data",
          "data": {
            "text/plain": [
              "<Figure size 432x288 with 1 Axes>"
            ],
            "image/png": "[encoded data removed]"
          },
          "metadata": {
            "needs_background": "light"
          }
        },
        {
          "output_type": "stream",
          "name": "stdout",
          "text": [
            "We thought = Shirt, but really Coat\n"
          ]
        },
        {
          "output_type": "display_data",
          "data": {
            "text/plain": [
              "<Figure size 432x288 with 1 Axes>"
            ],
            "image/png": "[encoded data removed]"
          },
          "metadata": {
            "needs_background": "light"
          }
        },
        {
          "output_type": "stream",
          "name": "stdout",
          "text": [
            "We thought = Shirt, but really Coat\n"
          ]
        }
      ]
    },
    {
      "cell_type": "markdown",
      "source": [
        "## Evaluation"
      ],
      "metadata": {
        "id": "MLSx8jZvY69Q"
      },
      "id": "MLSx8jZvY69Q"
    },
    {
      "cell_type": "code",
      "source": [
        "history.history['val_accuracy'][-1]"
      ],
      "metadata": {
        "colab": {
          "base_uri": "https://localhost:8080/"
        },
        "id": "aZhHx1PEZQ_T",
        "outputId": "5705f772-2405-4cb2-dc4a-84399a59c313"
      },
      "id": "aZhHx1PEZQ_T",
      "execution_count": 22,
      "outputs": [
        {
          "output_type": "execute_result",
          "data": {
            "text/plain": [
              "0.9204666614532471"
            ]
          },
          "metadata": {},
          "execution_count": 22
        }
      ]
    },
    {
      "cell_type": "code",
      "source": [],
      "metadata": {
        "id": "CRyvnvB5dMkx"
      },
      "id": "CRyvnvB5dMkx",
      "execution_count": null,
      "outputs": []
    }
  ],
  "metadata": {
    "kernelspec": {
      "display_name": "Python 3.9.12",
      "language": "python",
      "name": "python3"
    },
    "language_info": {
      "codemirror_mode": {
        "name": "ipython",
        "version": 3
      },
      "file_extension": ".py",
      "mimetype": "text/x-python",
      "name": "python",
      "nbconvert_exporter": "python",
      "pygments_lexer": "ipython3",
      "version": "3.9.12"
    },
    "colab": {
      "provenance": [],
      "collapsed_sections": []
    },
    "accelerator": "GPU",
    "gpuClass": "standard"
  },
  "nbformat": 4,
  "nbformat_minor": 5
}